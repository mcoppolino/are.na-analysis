{
 "cells": [
  {
   "cell_type": "code",
   "execution_count": null,
   "metadata": {},
   "outputs": [],
   "source": [
    "import numpy as np\n",
    "from scipy.linalg import svd\n",
    "from sklearn.decomposition import TruncatedSVD\n",
    "import seaborn as sns\n",
    "import matplotlib.pyplot as plt\n",
    "\n",
    "def pretty_print(M, title, viz=True):\n",
    "    if not viz: # print with text\n",
    "        print(title)\n",
    "        rows, cols = M.shape\n",
    "        for i in range(rows):\n",
    "            r = []\n",
    "            for j in range(cols):\n",
    "                r.append('%.02f  '%M[i][j])\n",
    "            print('\\t'.join(r))\n",
    "        print()\n",
    "    else:\n",
    "        plt.figure(figsize=(3,3)) \n",
    "        sns.heatmap(M, annot=True, fmt=\".01f\", cmap=\"Blues\", cbar=False)\n",
    "        plt.title(title)\n",
    "        plt.show()"
   ]
  },
  {
   "cell_type": "code",
   "execution_count": null,
   "metadata": {},
   "outputs": [],
   "source": [
    "# Regular SVD\n",
    "M = np.random.randint(0, 2, size=(6, 5))\n",
    "\n",
    "m, n = M.shape\n",
    "U, svs, V = svd(M)\n",
    "D = np.zeros((m, n))\n",
    "for i, v in enumerate(svs):\n",
    "    D[i, i] = v\n",
    "\n",
    "pretty_print(U, title=\"U = %s x %s: \"%U.shape)\n",
    "pretty_print(D, title=\"D = %s x %s: \"%D.shape)\n",
    "pretty_print(V, title=\"V = %s x %s: \"%V.shape)\n",
    "Mhat = U.dot(D.dot(V))\n",
    "pretty_print(M, title=\"M\")\n",
    "pretty_print(Mhat, title=\"Mhat\")"
   ]
  },
  {
   "cell_type": "code",
   "execution_count": null,
   "metadata": {},
   "outputs": [],
   "source": [
    "# Truncated SVD\n",
    "l = 2\n",
    "pretty_print(M, title=\"M\")\n",
    "m, n = M.shape\n",
    "U, svs, V = svd(M)\n",
    "D = np.zeros((m, n))\n",
    "for i, v in enumerate(svs):\n",
    "    D[i, i] = v\n",
    "U = U[:, 0:l]\n",
    "D = D[0:l, 0:l]\n",
    "V = V[0:l, :]\n",
    "\n",
    "pretty_print(U, title=\"U = %s x %s: \"%U.shape)\n",
    "pretty_print(D, title=\"D = %s x %s: \"%D.shape)\n",
    "pretty_print(V, title=\"V = %s x %s: \"%V.shape)\n",
    "Mhat = U.dot(D.dot(V))\n",
    "pretty_print(Mhat, title=\"Mhat\")\n",
    "recs = Mhat\n",
    "recs[np.where(M > 0)] = None\n",
    "pretty_print(recs, title=\"Recommendations\")\n",
    "\n",
    "trunc_svd = TruncatedSVD(n_components=2)\n",
    "trunc_svd.fit(M)\n",
    "result = trunc_svd.transform(M)\n",
    "pretty_print(result, title=\"Transformed M\")"
   ]
  }
 ],
 "metadata": {
  "kernelspec": {
   "display_name": "Python 3",
   "language": "python",
   "name": "python3"
  },
  "language_info": {
   "codemirror_mode": {
    "name": "ipython",
    "version": 3
   },
   "file_extension": ".py",
   "mimetype": "text/x-python",
   "name": "python",
   "nbconvert_exporter": "python",
   "pygments_lexer": "ipython3",
   "version": "3.6.8"
  }
 },
 "nbformat": 4,
 "nbformat_minor": 2
}
